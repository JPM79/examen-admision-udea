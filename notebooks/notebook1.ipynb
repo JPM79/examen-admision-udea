{
 "cells": [
  {
   "cell_type": "code",
   "execution_count": 54,
   "id": "5e72fecf",
   "metadata": {},
   "outputs": [
    {
     "data": {
      "text/plain": [
       "['__add__',\n",
       " '__class__',\n",
       " '__contains__',\n",
       " '__delattr__',\n",
       " '__dir__',\n",
       " '__doc__',\n",
       " '__eq__',\n",
       " '__format__',\n",
       " '__ge__',\n",
       " '__getattribute__',\n",
       " '__getitem__',\n",
       " '__getnewargs__',\n",
       " '__getstate__',\n",
       " '__gt__',\n",
       " '__hash__',\n",
       " '__init__',\n",
       " '__init_subclass__',\n",
       " '__iter__',\n",
       " '__le__',\n",
       " '__len__',\n",
       " '__lt__',\n",
       " '__mod__',\n",
       " '__mul__',\n",
       " '__ne__',\n",
       " '__new__',\n",
       " '__reduce__',\n",
       " '__reduce_ex__',\n",
       " '__repr__',\n",
       " '__rmod__',\n",
       " '__rmul__',\n",
       " '__setattr__',\n",
       " '__sizeof__',\n",
       " '__str__',\n",
       " '__subclasshook__',\n",
       " 'capitalize',\n",
       " 'casefold',\n",
       " 'center',\n",
       " 'count',\n",
       " 'encode',\n",
       " 'endswith',\n",
       " 'expandtabs',\n",
       " 'find',\n",
       " 'format',\n",
       " 'format_map',\n",
       " 'index',\n",
       " 'isalnum',\n",
       " 'isalpha',\n",
       " 'isascii',\n",
       " 'isdecimal',\n",
       " 'isdigit',\n",
       " 'isidentifier',\n",
       " 'islower',\n",
       " 'isnumeric',\n",
       " 'isprintable',\n",
       " 'isspace',\n",
       " 'istitle',\n",
       " 'isupper',\n",
       " 'join',\n",
       " 'ljust',\n",
       " 'lower',\n",
       " 'lstrip',\n",
       " 'maketrans',\n",
       " 'partition',\n",
       " 'removeprefix',\n",
       " 'removesuffix',\n",
       " 'replace',\n",
       " 'rfind',\n",
       " 'rindex',\n",
       " 'rjust',\n",
       " 'rpartition',\n",
       " 'rsplit',\n",
       " 'rstrip',\n",
       " 'split',\n",
       " 'splitlines',\n",
       " 'startswith',\n",
       " 'strip',\n",
       " 'swapcase',\n",
       " 'title',\n",
       " 'translate',\n",
       " 'upper',\n",
       " 'zfill']"
      ]
     },
     "execution_count": 54,
     "metadata": {},
     "output_type": "execute_result"
    }
   ],
   "source": [
    "a=\"hola mundo\"\n",
    "dir(a)"
   ]
  },
  {
   "cell_type": "markdown",
   "id": "c5cd03fb",
   "metadata": {},
   "source": [
    "| Tipo de dato | Categoría   | Descripción                                            | Ejemplo                  |\n",
    "|--------------|-------------|--------------------------------------------------------|--------------------------|\n",
    "| `int`        | Simple      | Números enteros, sin parte decimal                     | `x = 42`                 |\n",
    "| `float`      | Simple      | Números de punto flotante, con parte decimal           | `y = 3.14`               |\n",
    "| `complex`    | Simple      | Números complejos con parte real e imaginaria          | `z = 2 + 3j`             |\n",
    "| `bool`       | Simple      | Valores lógicos, `True` o `False`                      | `flag = True`            |\n",
    "| `str`        | Simple      | Cadenas de caracteres                                  | `s = \"Hola, mundo\"`      |\n",
    "| `list`       | Compuesto   | Secuencia ordenada y mutable de elementos              | `lst = [1, 2, 3]`        |\n",
    "| `tuple`      | Compuesto   | Secuencia ordenada e inmutable de elementos            | `t = (1, 2, 3)`          |\n",
    "| `set`        | Compuesto   | Conjunto no ordenado de elementos únicos               | `st = {1, 2, 3}`         |\n",
    "| `dict`       | Compuesto   | Colección de pares clave:valor                         | `d = {\"a\": 1, \"b\": 2}`   |\n",
    "| `range`      | Compuesto   | Secuencia inmutable de números enteros (iterable)      | `r = range(5)`           |"
   ]
  },
  {
   "cell_type": "code",
   "execution_count": 5,
   "id": "2c83f284",
   "metadata": {},
   "outputs": [
    {
     "data": {
      "text/plain": [
       "['__abs__',\n",
       " '__add__',\n",
       " '__and__',\n",
       " '__bool__',\n",
       " '__ceil__',\n",
       " '__class__',\n",
       " '__delattr__',\n",
       " '__dir__',\n",
       " '__divmod__',\n",
       " '__doc__',\n",
       " '__eq__',\n",
       " '__float__',\n",
       " '__floor__',\n",
       " '__floordiv__',\n",
       " '__format__',\n",
       " '__ge__',\n",
       " '__getattribute__',\n",
       " '__getnewargs__',\n",
       " '__getstate__',\n",
       " '__gt__',\n",
       " '__hash__',\n",
       " '__index__',\n",
       " '__init__',\n",
       " '__init_subclass__',\n",
       " '__int__',\n",
       " '__invert__',\n",
       " '__le__',\n",
       " '__lshift__',\n",
       " '__lt__',\n",
       " '__mod__',\n",
       " '__mul__',\n",
       " '__ne__',\n",
       " '__neg__',\n",
       " '__new__',\n",
       " '__or__',\n",
       " '__pos__',\n",
       " '__pow__',\n",
       " '__radd__',\n",
       " '__rand__',\n",
       " '__rdivmod__',\n",
       " '__reduce__',\n",
       " '__reduce_ex__',\n",
       " '__repr__',\n",
       " '__rfloordiv__',\n",
       " '__rlshift__',\n",
       " '__rmod__',\n",
       " '__rmul__',\n",
       " '__ror__',\n",
       " '__round__',\n",
       " '__rpow__',\n",
       " '__rrshift__',\n",
       " '__rshift__',\n",
       " '__rsub__',\n",
       " '__rtruediv__',\n",
       " '__rxor__',\n",
       " '__setattr__',\n",
       " '__sizeof__',\n",
       " '__str__',\n",
       " '__sub__',\n",
       " '__subclasshook__',\n",
       " '__truediv__',\n",
       " '__trunc__',\n",
       " '__xor__',\n",
       " 'as_integer_ratio',\n",
       " 'bit_count',\n",
       " 'bit_length',\n",
       " 'conjugate',\n",
       " 'denominator',\n",
       " 'from_bytes',\n",
       " 'imag',\n",
       " 'numerator',\n",
       " 'real',\n",
       " 'to_bytes']"
      ]
     },
     "execution_count": 5,
     "metadata": {},
     "output_type": "execute_result"
    }
   ],
   "source": [
    "x = 25\n",
    "dir(x)"
   ]
  },
  {
   "cell_type": "code",
   "execution_count": 6,
   "id": "da539e76",
   "metadata": {},
   "outputs": [
    {
     "data": {
      "text/plain": [
       "['__abs__',\n",
       " '__add__',\n",
       " '__bool__',\n",
       " '__ceil__',\n",
       " '__class__',\n",
       " '__delattr__',\n",
       " '__dir__',\n",
       " '__divmod__',\n",
       " '__doc__',\n",
       " '__eq__',\n",
       " '__float__',\n",
       " '__floor__',\n",
       " '__floordiv__',\n",
       " '__format__',\n",
       " '__ge__',\n",
       " '__getattribute__',\n",
       " '__getformat__',\n",
       " '__getnewargs__',\n",
       " '__getstate__',\n",
       " '__gt__',\n",
       " '__hash__',\n",
       " '__init__',\n",
       " '__init_subclass__',\n",
       " '__int__',\n",
       " '__le__',\n",
       " '__lt__',\n",
       " '__mod__',\n",
       " '__mul__',\n",
       " '__ne__',\n",
       " '__neg__',\n",
       " '__new__',\n",
       " '__pos__',\n",
       " '__pow__',\n",
       " '__radd__',\n",
       " '__rdivmod__',\n",
       " '__reduce__',\n",
       " '__reduce_ex__',\n",
       " '__repr__',\n",
       " '__rfloordiv__',\n",
       " '__rmod__',\n",
       " '__rmul__',\n",
       " '__round__',\n",
       " '__rpow__',\n",
       " '__rsub__',\n",
       " '__rtruediv__',\n",
       " '__setattr__',\n",
       " '__sizeof__',\n",
       " '__str__',\n",
       " '__sub__',\n",
       " '__subclasshook__',\n",
       " '__truediv__',\n",
       " '__trunc__',\n",
       " 'as_integer_ratio',\n",
       " 'conjugate',\n",
       " 'fromhex',\n",
       " 'hex',\n",
       " 'imag',\n",
       " 'is_integer',\n",
       " 'real']"
      ]
     },
     "execution_count": 6,
     "metadata": {},
     "output_type": "execute_result"
    }
   ],
   "source": [
    "y=12.5\n",
    "dir(y)"
   ]
  },
  {
   "cell_type": "code",
   "execution_count": 7,
   "id": "0564a3ef",
   "metadata": {},
   "outputs": [
    {
     "data": {
      "text/plain": [
       "['__abs__',\n",
       " '__add__',\n",
       " '__bool__',\n",
       " '__class__',\n",
       " '__complex__',\n",
       " '__delattr__',\n",
       " '__dir__',\n",
       " '__doc__',\n",
       " '__eq__',\n",
       " '__format__',\n",
       " '__ge__',\n",
       " '__getattribute__',\n",
       " '__getnewargs__',\n",
       " '__getstate__',\n",
       " '__gt__',\n",
       " '__hash__',\n",
       " '__init__',\n",
       " '__init_subclass__',\n",
       " '__le__',\n",
       " '__lt__',\n",
       " '__mul__',\n",
       " '__ne__',\n",
       " '__neg__',\n",
       " '__new__',\n",
       " '__pos__',\n",
       " '__pow__',\n",
       " '__radd__',\n",
       " '__reduce__',\n",
       " '__reduce_ex__',\n",
       " '__repr__',\n",
       " '__rmul__',\n",
       " '__rpow__',\n",
       " '__rsub__',\n",
       " '__rtruediv__',\n",
       " '__setattr__',\n",
       " '__sizeof__',\n",
       " '__str__',\n",
       " '__sub__',\n",
       " '__subclasshook__',\n",
       " '__truediv__',\n",
       " 'conjugate',\n",
       " 'imag',\n",
       " 'real']"
      ]
     },
     "execution_count": 7,
     "metadata": {},
     "output_type": "execute_result"
    }
   ],
   "source": [
    "z = 3 + 2j\n",
    "dir(z)"
   ]
  },
  {
   "cell_type": "code",
   "execution_count": 8,
   "id": "2bc28f1c",
   "metadata": {},
   "outputs": [
    {
     "data": {
      "text/plain": [
       "['__abs__',\n",
       " '__add__',\n",
       " '__and__',\n",
       " '__bool__',\n",
       " '__ceil__',\n",
       " '__class__',\n",
       " '__delattr__',\n",
       " '__dir__',\n",
       " '__divmod__',\n",
       " '__doc__',\n",
       " '__eq__',\n",
       " '__float__',\n",
       " '__floor__',\n",
       " '__floordiv__',\n",
       " '__format__',\n",
       " '__ge__',\n",
       " '__getattribute__',\n",
       " '__getnewargs__',\n",
       " '__getstate__',\n",
       " '__gt__',\n",
       " '__hash__',\n",
       " '__index__',\n",
       " '__init__',\n",
       " '__init_subclass__',\n",
       " '__int__',\n",
       " '__invert__',\n",
       " '__le__',\n",
       " '__lshift__',\n",
       " '__lt__',\n",
       " '__mod__',\n",
       " '__mul__',\n",
       " '__ne__',\n",
       " '__neg__',\n",
       " '__new__',\n",
       " '__or__',\n",
       " '__pos__',\n",
       " '__pow__',\n",
       " '__radd__',\n",
       " '__rand__',\n",
       " '__rdivmod__',\n",
       " '__reduce__',\n",
       " '__reduce_ex__',\n",
       " '__repr__',\n",
       " '__rfloordiv__',\n",
       " '__rlshift__',\n",
       " '__rmod__',\n",
       " '__rmul__',\n",
       " '__ror__',\n",
       " '__round__',\n",
       " '__rpow__',\n",
       " '__rrshift__',\n",
       " '__rshift__',\n",
       " '__rsub__',\n",
       " '__rtruediv__',\n",
       " '__rxor__',\n",
       " '__setattr__',\n",
       " '__sizeof__',\n",
       " '__str__',\n",
       " '__sub__',\n",
       " '__subclasshook__',\n",
       " '__truediv__',\n",
       " '__trunc__',\n",
       " '__xor__',\n",
       " 'as_integer_ratio',\n",
       " 'bit_count',\n",
       " 'bit_length',\n",
       " 'conjugate',\n",
       " 'denominator',\n",
       " 'from_bytes',\n",
       " 'imag',\n",
       " 'numerator',\n",
       " 'real',\n",
       " 'to_bytes']"
      ]
     },
     "execution_count": 8,
     "metadata": {},
     "output_type": "execute_result"
    }
   ],
   "source": [
    "b=True\n",
    "dir(b)"
   ]
  },
  {
   "cell_type": "code",
   "execution_count": 9,
   "id": "2c1e041f",
   "metadata": {},
   "outputs": [
    {
     "data": {
      "text/plain": [
       "3"
      ]
     },
     "execution_count": 9,
     "metadata": {},
     "output_type": "execute_result"
    }
   ],
   "source": [
    "int(3.1416)\n"
   ]
  },
  {
   "cell_type": "code",
   "execution_count": 10,
   "id": "e3b05d7f",
   "metadata": {},
   "outputs": [
    {
     "data": {
      "text/plain": [
       "1"
      ]
     },
     "execution_count": 10,
     "metadata": {},
     "output_type": "execute_result"
    }
   ],
   "source": [
    "int(b)"
   ]
  },
  {
   "cell_type": "code",
   "execution_count": 12,
   "id": "1313d7c3",
   "metadata": {},
   "outputs": [],
   "source": [
    "lst=[1,2,3,4]\n",
    "st=(1,2.3,4)"
   ]
  },
  {
   "cell_type": "code",
   "execution_count": 13,
   "id": "0544ac19",
   "metadata": {},
   "outputs": [
    {
     "data": {
      "text/plain": [
       "['__add__',\n",
       " '__class__',\n",
       " '__class_getitem__',\n",
       " '__contains__',\n",
       " '__delattr__',\n",
       " '__delitem__',\n",
       " '__dir__',\n",
       " '__doc__',\n",
       " '__eq__',\n",
       " '__format__',\n",
       " '__ge__',\n",
       " '__getattribute__',\n",
       " '__getitem__',\n",
       " '__getstate__',\n",
       " '__gt__',\n",
       " '__hash__',\n",
       " '__iadd__',\n",
       " '__imul__',\n",
       " '__init__',\n",
       " '__init_subclass__',\n",
       " '__iter__',\n",
       " '__le__',\n",
       " '__len__',\n",
       " '__lt__',\n",
       " '__mul__',\n",
       " '__ne__',\n",
       " '__new__',\n",
       " '__reduce__',\n",
       " '__reduce_ex__',\n",
       " '__repr__',\n",
       " '__reversed__',\n",
       " '__rmul__',\n",
       " '__setattr__',\n",
       " '__setitem__',\n",
       " '__sizeof__',\n",
       " '__str__',\n",
       " '__subclasshook__',\n",
       " 'append',\n",
       " 'clear',\n",
       " 'copy',\n",
       " 'count',\n",
       " 'extend',\n",
       " 'index',\n",
       " 'insert',\n",
       " 'pop',\n",
       " 'remove',\n",
       " 'reverse',\n",
       " 'sort']"
      ]
     },
     "execution_count": 13,
     "metadata": {},
     "output_type": "execute_result"
    }
   ],
   "source": [
    "dir(lst)"
   ]
  },
  {
   "cell_type": "code",
   "execution_count": 18,
   "id": "f4c9ad9f",
   "metadata": {},
   "outputs": [
    {
     "data": {
      "text/plain": [
       "2"
      ]
     },
     "execution_count": 18,
     "metadata": {},
     "output_type": "execute_result"
    }
   ],
   "source": [
    "lst.index(3)"
   ]
  },
  {
   "cell_type": "code",
   "execution_count": 19,
   "id": "b1a74dd6",
   "metadata": {},
   "outputs": [],
   "source": [
    "lst.append(5)"
   ]
  },
  {
   "cell_type": "code",
   "execution_count": 20,
   "id": "ea081a39",
   "metadata": {},
   "outputs": [
    {
     "data": {
      "text/plain": [
       "['__add__',\n",
       " '__class__',\n",
       " '__class_getitem__',\n",
       " '__contains__',\n",
       " '__delattr__',\n",
       " '__dir__',\n",
       " '__doc__',\n",
       " '__eq__',\n",
       " '__format__',\n",
       " '__ge__',\n",
       " '__getattribute__',\n",
       " '__getitem__',\n",
       " '__getnewargs__',\n",
       " '__getstate__',\n",
       " '__gt__',\n",
       " '__hash__',\n",
       " '__init__',\n",
       " '__init_subclass__',\n",
       " '__iter__',\n",
       " '__le__',\n",
       " '__len__',\n",
       " '__lt__',\n",
       " '__mul__',\n",
       " '__ne__',\n",
       " '__new__',\n",
       " '__reduce__',\n",
       " '__reduce_ex__',\n",
       " '__repr__',\n",
       " '__rmul__',\n",
       " '__setattr__',\n",
       " '__sizeof__',\n",
       " '__str__',\n",
       " '__subclasshook__',\n",
       " 'count',\n",
       " 'index']"
      ]
     },
     "execution_count": 20,
     "metadata": {},
     "output_type": "execute_result"
    }
   ],
   "source": [
    "dir(st)"
   ]
  },
  {
   "cell_type": "code",
   "execution_count": 21,
   "id": "da3d5dc6",
   "metadata": {},
   "outputs": [
    {
     "data": {
      "text/plain": [
       "['__class__',\n",
       " '__class_getitem__',\n",
       " '__contains__',\n",
       " '__delattr__',\n",
       " '__delitem__',\n",
       " '__dir__',\n",
       " '__doc__',\n",
       " '__eq__',\n",
       " '__format__',\n",
       " '__ge__',\n",
       " '__getattribute__',\n",
       " '__getitem__',\n",
       " '__getstate__',\n",
       " '__gt__',\n",
       " '__hash__',\n",
       " '__init__',\n",
       " '__init_subclass__',\n",
       " '__ior__',\n",
       " '__iter__',\n",
       " '__le__',\n",
       " '__len__',\n",
       " '__lt__',\n",
       " '__ne__',\n",
       " '__new__',\n",
       " '__or__',\n",
       " '__reduce__',\n",
       " '__reduce_ex__',\n",
       " '__repr__',\n",
       " '__reversed__',\n",
       " '__ror__',\n",
       " '__setattr__',\n",
       " '__setitem__',\n",
       " '__sizeof__',\n",
       " '__str__',\n",
       " '__subclasshook__',\n",
       " 'clear',\n",
       " 'copy',\n",
       " 'fromkeys',\n",
       " 'get',\n",
       " 'items',\n",
       " 'keys',\n",
       " 'pop',\n",
       " 'popitem',\n",
       " 'setdefault',\n",
       " 'update',\n",
       " 'values']"
      ]
     },
     "execution_count": 21,
     "metadata": {},
     "output_type": "execute_result"
    }
   ],
   "source": [
    "d={\"a\":1,\"s\":2,\"t\":3}\n",
    "dir(d)"
   ]
  },
  {
   "cell_type": "code",
   "execution_count": 23,
   "id": "e7f4daee",
   "metadata": {},
   "outputs": [
    {
     "data": {
      "text/plain": [
       "dict_items([('a', 1), ('s', 2), ('t', 3)])"
      ]
     },
     "execution_count": 23,
     "metadata": {},
     "output_type": "execute_result"
    }
   ],
   "source": [
    "p=[(1,3),(2,4,6),(2,6,8)]\n",
    "d.items()"
   ]
  },
  {
   "cell_type": "code",
   "execution_count": 26,
   "id": "8ac2724b",
   "metadata": {},
   "outputs": [],
   "source": [
    "int_a=5\n",
    "float_b=4.5\n",
    "complex_c=3+2j\n",
    "list_d=[0,2,4,6]\n",
    "bool_e=True\n",
    "str_f=\"Hola, mundo!\"\n",
    "tupla_g=(9,7,5,3)\n",
    "dict_h={\"a\":1,\"s\":2,\"t\":3}\n"
   ]
  },
  {
   "cell_type": "code",
   "execution_count": 27,
   "id": "74a371f2",
   "metadata": {},
   "outputs": [
    {
     "data": {
      "text/plain": [
       "22.5"
      ]
     },
     "execution_count": 27,
     "metadata": {},
     "output_type": "execute_result"
    }
   ],
   "source": [
    "int_a * float_b"
   ]
  },
  {
   "cell_type": "code",
   "execution_count": 31,
   "id": "c5cf6356",
   "metadata": {},
   "outputs": [
    {
     "data": {
      "text/plain": [
       "(125+300j)"
      ]
     },
     "execution_count": 31,
     "metadata": {},
     "output_type": "execute_result"
    }
   ],
   "source": [
    "(int_a * complex_c)**2\n"
   ]
  },
  {
   "cell_type": "code",
   "execution_count": 29,
   "id": "861d4101",
   "metadata": {},
   "outputs": [
    {
     "data": {
      "text/plain": [
       "(13.5+9j)"
      ]
     },
     "execution_count": 29,
     "metadata": {},
     "output_type": "execute_result"
    }
   ],
   "source": [
    "float_b*complex_c\n"
   ]
  },
  {
   "cell_type": "code",
   "execution_count": 30,
   "id": "a1d4fa4c",
   "metadata": {},
   "outputs": [
    {
     "data": {
      "text/plain": [
       "20.25"
      ]
     },
     "execution_count": 30,
     "metadata": {},
     "output_type": "execute_result"
    }
   ],
   "source": [
    "float_b**2\n"
   ]
  },
  {
   "cell_type": "code",
   "execution_count": 36,
   "id": "04739442",
   "metadata": {},
   "outputs": [
    {
     "name": "stdout",
     "output_type": "stream",
     "text": [
      "42120000000.000000\n"
     ]
    }
   ],
   "source": [
    "int_a=135000\n",
    "int_b=312000\n",
    "Result=int_a*int_b\n",
    "notacion=\"{:1f}\".format(Result)\n",
    "print(notacion)\n",
    "#base, exponente = notacion.split('e')\n",
    "#base=float(base)\n",
    "#exponente=int(exponente)\n",
    "#Result_str=f\"El resultado de la multiplicación es {int(base) x 10}\""
   ]
  },
  {
   "cell_type": "code",
   "execution_count": 38,
   "id": "ebf4681d",
   "metadata": {},
   "outputs": [
    {
     "data": {
      "text/plain": [
       "'4.21e+10'"
      ]
     },
     "execution_count": 38,
     "metadata": {},
     "output_type": "execute_result"
    }
   ],
   "source": [
    "f\"{Result:.2e}\""
   ]
  },
  {
   "cell_type": "code",
   "execution_count": 41,
   "id": "d7a8b8ef",
   "metadata": {},
   "outputs": [
    {
     "data": {
      "text/plain": [
       "3"
      ]
     },
     "execution_count": 41,
     "metadata": {},
     "output_type": "execute_result"
    }
   ],
   "source": [
    "abc=[\"a\",\"b\",\"c\",\"a\",\"d\"]\n",
    "abc.index(\"a\",2)"
   ]
  },
  {
   "cell_type": "code",
   "execution_count": null,
   "id": "01627d53",
   "metadata": {},
   "outputs": [
    {
     "name": "stdout",
     "output_type": "stream",
     "text": [
      "5\n",
      "None\n"
     ]
    },
    {
     "name": "stdout",
     "output_type": "stream",
     "text": [
      "5\n",
      "[5, 4, 3, 2, 1]\n"
     ]
    }
   ],
   "source": [
    "listNumb=[1,2,3,4,5]\n",
    "g=listNumb[-1]\n",
    "listNumb.reverse()\n",
    "print(g)\n",
    "print(listNumb)\n"
   ]
  },
  {
   "cell_type": "code",
   "execution_count": null,
   "id": "58f094b9",
   "metadata": {},
   "outputs": [
    {
     "ename": "TypeError",
     "evalue": "can't multiply sequence by non-int of type 'float'",
     "output_type": "error",
     "traceback": [
      "\u001b[31m---------------------------------------------------------------------------\u001b[39m",
      "\u001b[31mTypeError\u001b[39m                                 Traceback (most recent call last)",
      "\u001b[36mCell\u001b[39m\u001b[36m \u001b[39m\u001b[32mIn[45]\u001b[39m\u001b[32m, line 6\u001b[39m\n\u001b[32m      4\u001b[39m primera_clave= claves[\u001b[32m1\u001b[39m]\n\u001b[32m      5\u001b[39m segunda_clave= claves[-\u001b[32m1\u001b[39m]\n\u001b[32m----> \u001b[39m\u001b[32m6\u001b[39m nueva_medicion= {primera_clave:mediciones[primera_clave]*escala, segunda_clave:\u001b[43mmediciones\u001b[49m\u001b[43m[\u001b[49m\u001b[43msegunda_clave\u001b[49m\u001b[43m]\u001b[49m\u001b[43m*\u001b[49m\u001b[43mescala\u001b[49m}\n\u001b[32m      7\u001b[39m \u001b[38;5;28mprint\u001b[39m(nueva_medicion)\n",
      "\u001b[31mTypeError\u001b[39m: can't multiply sequence by non-int of type 'float'"
     ]
    }
   ],
   "source": [
    "mediciones={\"variable\":\"emision\",\n",
    "            \"valor\":58.6,\n",
    "            \"ic\":\"52.8 - 60.8\"\n",
    "}\n",
    "escala=8.5\n",
    "\n",
    "nueva_medicion= {primera_clave:mediciones[primera_clave]*escala, segunda_clave:mediciones[segunda_clave]*escala}\n",
    "print(nueva_medicion)"
   ]
  },
  {
   "cell_type": "code",
   "execution_count": 55,
   "id": "c398394c",
   "metadata": {},
   "outputs": [
    {
     "name": "stdout",
     "output_type": "stream",
     "text": [
      "\n"
     ]
    }
   ],
   "source": [
    "num1 = float(input(\"Ingrese el primer numero: \"))\n",
    "num2 = float(input(\"Ingrese el segundo numero:\"))\n",
    "resultados = {\n",
    "    \"suma\": num1 + num2,\n",
    "    \"multiplicacion\": num1 * num2,\n",
    "    \"division\": num1 / num2 \n",
    "}\n",
    "#if num2 != 0 else \"No se puede dividir por cero\"\n",
    "print(\"\")"
   ]
  },
  {
   "cell_type": "code",
   "execution_count": 56,
   "id": "3be44529",
   "metadata": {},
   "outputs": [
    {
     "name": "stdout",
     "output_type": "stream",
     "text": [
      "{'x': 'Hola', 'y': 'mundo', 'z': 'Hola mundo'}\n"
     ]
    }
   ],
   "source": [
    "dic1 = {\"x\":\"Hola\",\n",
    "        \"y\":\"mundo\"}\n",
    "dic1[\"z\"] = dic1[\"x\"]+ \" \" +dic1[\"y\"]\n",
    "print(dic1)"
   ]
  },
  {
   "cell_type": "code",
   "execution_count": 58,
   "id": "0f941d6b",
   "metadata": {},
   "outputs": [
    {
     "name": "stdout",
     "output_type": "stream",
     "text": [
      "{'x': 2, 'y': 1}\n"
     ]
    }
   ],
   "source": [
    "dic2 = {\"x\":1,\n",
    "        \"y\":2}\n",
    "dic2[\"x\"], dic2[\"y\"] = dic2[\"y\"], dic2[\"x\"]\n",
    "print(dic2)"
   ]
  },
  {
   "cell_type": "code",
   "execution_count": 63,
   "id": "0ed2b3ed",
   "metadata": {},
   "outputs": [
    {
     "name": "stdout",
     "output_type": "stream",
     "text": [
      "{'x': 1, 'y': 2, 'z': 3, 'w': 4}\n"
     ]
    }
   ],
   "source": [
    "dic2 = {\"x\":1,\n",
    "        \"y\":2}\n",
    "dic3 = {\"z\":3,\n",
    "        \"w\":4}\n",
    "dic2.update(dic3)\n",
    "print(dic2)\n",
    "\n"
   ]
  },
  {
   "cell_type": "code",
   "execution_count": 73,
   "id": "e892c61f",
   "metadata": {},
   "outputs": [
    {
     "name": "stdout",
     "output_type": "stream",
     "text": [
      "{'x': -2, 'y': -2}\n"
     ]
    }
   ],
   "source": [
    "dic2 = {\"x\":1,\n",
    "        \"y\":2}\n",
    "dic3 = {\"x\":3,\n",
    "        \"y\":4}\n",
    "#resta\n",
    "dic2 = {k: dic2[k] - dic3[k] for k in dic2}\n",
    "\n",
    "print(dic2)"
   ]
  },
  {
   "cell_type": "code",
   "execution_count": 77,
   "id": "980013d3",
   "metadata": {},
   "outputs": [
    {
     "name": "stdout",
     "output_type": "stream",
     "text": [
      "[1, 2, 3, 4, 5, 6, 7, 8, 9, 0]\n"
     ]
    }
   ],
   "source": [
    "list_1 = [1,2,3,4]\n",
    "list_2 = [5,6,7,8,9,0]\n",
    "list_3 = list_1 + list_2\n",
    "\n",
    "print(list_3)"
   ]
  },
  {
   "cell_type": "code",
   "execution_count": 78,
   "id": "7f8700cc",
   "metadata": {},
   "outputs": [
    {
     "name": "stdout",
     "output_type": "stream",
     "text": [
      "Conversión:  {'Celsius': 26.0, 'Fahrenheit': 78.8, 'Kelvin': 299.15}\n"
     ]
    }
   ],
   "source": [
    "celsius = float(input(\"Ingrese la temperatura en grados Celsius: \"))\n",
    "fahrenheit = (celsius * 9/5) + 32\n",
    "kelvin = (celsius) + 273.15\n",
    "conversion = {\n",
    "    \"Celsius\": celsius,\n",
    "    \"Fahrenheit\": fahrenheit,\n",
    "    \"Kelvin\": kelvin\n",
    "} \n",
    "print(\"Conversión: \", conversion)"
   ]
  },
  {
   "cell_type": "code",
   "execution_count": 86,
   "id": "fbd4d849",
   "metadata": {},
   "outputs": [
    {
     "name": "stdout",
     "output_type": "stream",
     "text": [
      "{'Suma': 78, 'Resta': 30, 'Multiplicación': 1304, 'División': 2}\n"
     ]
    }
   ],
   "source": [
    "num_1 = float(input(\"Ingrese el primer numero: \"))\n",
    "num_2 = float(input(\"Ingrese el segundo numero: \"))\n",
    "\n",
    "calculadora = {\n",
    "    \"Suma\": int(num_1 + num_2),\n",
    "    \"Resta\": int(num_1 - num_2),\n",
    "    \"Multiplicación\": int(num_1 * num_2),\n",
    "    \"División\": int(num_1/num_2)\n",
    "}\n",
    "print(calculadora)"
   ]
  },
  {
   "cell_type": "markdown",
   "id": "106771c0",
   "metadata": {},
   "source": [
    "**Separar usuario y dominio de un correo**  \n",
    "para `email = \"usuario@example.com\"`, divide en `user` y `domain`."
   ]
  },
  {
   "cell_type": "code",
   "execution_count": 2,
   "id": "3421fb7e",
   "metadata": {},
   "outputs": [
    {
     "name": "stdout",
     "output_type": "stream",
     "text": [
      "usuario\n",
      "example.com\n"
     ]
    }
   ],
   "source": [
    "email = \"usuario@example.com\"\n",
    "user, dominio = email.split(\"@\",1)\n",
    "print(user)\n",
    "print(dominio)"
   ]
  },
  {
   "cell_type": "markdown",
   "id": "4927e271",
   "metadata": {},
   "source": [
    "**Calcular porcentaje**  \n",
    "Con `parte = 45` y `total = 120`, calcula `percent = parte/total*100` y formatea `\"37.50%\"` con dos decimales."
   ]
  },
  {
   "cell_type": "code",
   "execution_count": 29,
   "id": "1e922bd5",
   "metadata": {},
   "outputs": [
    {
     "name": "stdout",
     "output_type": "stream",
     "text": [
      "37.50%\n"
     ]
    }
   ],
   "source": [
    "parte = 45\n",
    "total = 120\n",
    "percent = parte/total*100\n",
    "formatea = \"{:.2f}%\".format(percent)\n",
    "print (formatea)"
   ]
  },
  {
   "cell_type": "markdown",
   "id": "2d9b43ef",
   "metadata": {},
   "source": [
    "**Desempaquetado de tupla anidada**  \n",
    "Para `nested = (1,(2,(3,4)))`, extrae `a=1`, `b=2`, `c=3`, `d=4`."
   ]
  },
  {
   "cell_type": "code",
   "execution_count": 10,
   "id": "1a1b1364",
   "metadata": {},
   "outputs": [
    {
     "name": "stdout",
     "output_type": "stream",
     "text": [
      "1\n",
      "2\n",
      "3\n",
      "4\n"
     ]
    }
   ],
   "source": [
    "nested =(1,(2,(3,4)))\n",
    "a,(b,(c,d)) = nested\n",
    "print(a)\n",
    "print(b)\n",
    "print(c)\n",
    "print(d)\n"
   ]
  },
  {
   "cell_type": "markdown",
   "id": "4959a4e1",
   "metadata": {},
   "source": [
    "**Representación binaria de un entero**  \n",
    "Con `n = 13`, obtiene `bin_str = bin(n)` y `bit_length = n.bit_length()`."
   ]
  },
  {
   "cell_type": "code",
   "execution_count": 11,
   "id": "697e216e",
   "metadata": {},
   "outputs": [
    {
     "name": "stdout",
     "output_type": "stream",
     "text": [
      "0b1101\n",
      "4\n"
     ]
    }
   ],
   "source": [
    "n = 13\n",
    "bin_str = bin(n)\n",
    "bit_length = n.bit_length()\n",
    "print(bin_str)\n",
    "print(bit_length)"
   ]
  },
  {
   "cell_type": "markdown",
   "id": "846a2d7f",
   "metadata": {},
   "source": [
    "**Codificar y decodificar Base64**  \n",
    "Con `import base64` y `text = \"hola\"`, genera `b64 = base64.b64encode(text.encode())` y recupera el texto original."
   ]
  },
  {
   "cell_type": "code",
   "execution_count": 28,
   "id": "6e1fdc4e",
   "metadata": {},
   "outputs": [
    {
     "name": "stdout",
     "output_type": "stream",
     "text": [
      "b'aG9sYQ=='\n",
      "hola\n"
     ]
    }
   ],
   "source": [
    "import base64\n",
    "text = \"hola\"\n",
    "b64 = base64.b64encode(text.encode('utf-8'))\n",
    "print(b64)\n",
    "decode_bytes = base64.b64decode(b64)\n",
    "text_original = decode_bytes.decode('utf-8')\n",
    "print (text_original)"
   ]
  },
  {
   "cell_type": "markdown",
   "id": "10d367b0",
   "metadata": {},
   "source": [
    "**Extraer valor numérico y unidad de peso**  \n",
    "Tienes la cadena `\"75.5kg\"`. Separa la parte numérica como un `float` y la unidad como un `str`, y luego construye un mensaje:  \n",
    "   ```python\n",
    "   # weight = 75.5, unit = \"kg\"\n",
    "   # message = \"Peso: 75.5 kg\""
   ]
  },
  {
   "cell_type": "code",
   "execution_count": 16,
   "id": "4e5525fa",
   "metadata": {},
   "outputs": [
    {
     "name": "stdout",
     "output_type": "stream",
     "text": [
      "El peso es 75.5 kg\n"
     ]
    }
   ],
   "source": [
    "import re\n",
    "peso = \"75.5kg\"\n",
    "nume_str, unidad = re.findall(r'\\d+\\.?\\d*|[A-Za-z]+', peso)\n",
    "num = float(nume_str)\n",
    "mensaje = f\"El peso es {num} {unidad}\"\n",
    "print(mensaje)"
   ]
  },
  {
   "cell_type": "markdown",
   "id": "5fe3dea7",
   "metadata": {},
   "source": [
    "**Convertir lista de pares clave-valor en diccionario tipado**  \n",
    "Dada la lista de claves `[\"producto\",\"precio\",\"stock\"]` y valores `[\"Camisa\",\"39.99\",\"20\"]`, crea un diccionario, luego convierte `\"precio\"` a `float` y `\"stock\"` a `int`. Extrae esos valores en variables."
   ]
  },
  {
   "cell_type": "code",
   "execution_count": 18,
   "id": "23eb654f",
   "metadata": {},
   "outputs": [
    {
     "name": "stdout",
     "output_type": "stream",
     "text": [
      "Camisa <class 'str'>\n",
      "39.99 <class 'float'>\n",
      "20 <class 'int'>\n"
     ]
    }
   ],
   "source": [
    "keys = [\"producto\",\"precio\",\"stock\"]\n",
    "values = [\"Camisa\",\"39.99\",\"20\"]\n",
    "data = dict(zip(keys, values))\n",
    "data[\"precio\"] = float(data[\"precio\"])\n",
    "data[\"stock\"] = int(data[\"stock\"])\n",
    "producto = data[\"producto\"]\n",
    "values = data[\"precio\"]\n",
    "stock = data[\"stock\"]\n",
    "\n",
    "print(producto, type(producto))\n",
    "print(values, type(values))\n",
    "print(stock, type(stock))"
   ]
  },
  {
   "cell_type": "markdown",
   "id": "ced82bf5",
   "metadata": {},
   "source": [
    "**Ordenar tres números y resumir**  \n",
    "Teniendo `a, b, c = 15, 7, 22`, usa `sorted` para obtener los valores en orden ascendente y genera el resumen: `\"Valores ordenados: 7, 15, 22\"`."
   ]
  },
  {
   "cell_type": "code",
   "execution_count": 19,
   "id": "f1590485",
   "metadata": {},
   "outputs": [
    {
     "name": "stdout",
     "output_type": "stream",
     "text": [
      "[7, 15, 22]\n"
     ]
    }
   ],
   "source": [
    "a, b, c = 15, 7, 22\n",
    "ordenar = sorted([a,b,c])\n",
    "print(ordenar)"
   ]
  },
  {
   "cell_type": "markdown",
   "id": "fa8d4056",
   "metadata": {},
   "source": [
    "**Eliminar tildes y caracteres especiales de un texto**  \n",
    "Con `text = \"Información áéíóú ñ\"`, crea una tabla de traducción y usa `str.translate` para obtener `\"Informacion aeiou n\"`."
   ]
  },
  {
   "cell_type": "code",
   "execution_count": 31,
   "id": "f68444fb",
   "metadata": {},
   "outputs": [
    {
     "name": "stdout",
     "output_type": "stream",
     "text": [
      "Informacion aeiou n\n"
     ]
    }
   ],
   "source": [
    "text = \"Información áéíóú ñ\"\n",
    "mapping = {\n",
    "    'á':'a',\n",
    "    ord('é'):'e',\n",
    "    ord('í'):'i',\n",
    "    ord('ó'):'o',\n",
    "    ord('ú'):'u',\n",
    "    ord('ñ'):'n'\n",
    "}\n",
    "trans_table = str.maketrans(mapping)\n",
    "clean_text = text.translate(trans_table)\n",
    "print(clean_text)"
   ]
  },
  {
   "cell_type": "code",
   "execution_count": null,
   "id": "f0428522",
   "metadata": {},
   "outputs": [],
   "source": [
    "# Texto original\n",
    "text = \"Información áéíóú ñ\"\n",
    "\n",
    "# Diccionario de reemplazos\n",
    "reemplazos = {\n",
    "    'á':'a','Á':'A',\n",
    "    'é':'e','É':'E',\n",
    "    'í':'i','Í':'I',\n",
    "    'ó':'o','Ó':'O',\n",
    "    'ú':'u','Ú':'U',\n",
    "    'ñ':'n','Ñ':'N',\n",
    "}\n",
    "\n",
    "# Usar map para aplicar el reemplazo a cada carácter\n",
    "clean = ''.join(\n",
    "    map(\n",
    "        lambda ch: reemplazos.get(ch, ch),\n",
    "        text\n",
    "    )\n",
    ")\n",
    "\n",
    "print(clean)  # → \"Informacion aeiou n\""
   ]
  },
  {
   "cell_type": "code",
   "execution_count": null,
   "id": "d16d05c2",
   "metadata": {},
   "outputs": [],
   "source": []
  },
  {
   "cell_type": "markdown",
   "id": "cddae140",
   "metadata": {},
   "source": [
    "**Desempaquetado anidado de datos mixtos**  \n",
    "    Con `data = (\"Alice\",[25,\"F\"],{\"city\":\"Bogotá\",\"zip\":\"110111\"})`, extrae nombre, edad, género, ciudad y código postal."
   ]
  },
  {
   "cell_type": "code",
   "execution_count": 24,
   "id": "98696c06",
   "metadata": {},
   "outputs": [
    {
     "name": "stdout",
     "output_type": "stream",
     "text": [
      "Alice\n",
      "25\n",
      "F\n",
      "Bogotá\n",
      "110111\n"
     ]
    }
   ],
   "source": [
    "data = (\"Alice\",[25,\"F\"],{\"city\":\"Bogotá\",\"zip\":\"110111\"})\n",
    "nombre, (edad, genero), info_ubicacion = data\n",
    "ciudad = info_ubicacion[\"city\"]\n",
    "codigo_postal = info_ubicacion[\"zip\"]\n",
    "print(nombre)\n",
    "print(edad)\n",
    "print(genero)\n",
    "print(ciudad)\n",
    "print(codigo_postal)"
   ]
  },
  {
   "cell_type": "markdown",
   "id": "7b495d0d",
   "metadata": {},
   "source": [
    "**Codificar y decodificar texto en bytes UTF-8**  \n",
    "    Con `text = \"hola\"`, convierte a bytes y luego de vuelta a cadena, verificando que coincida."
   ]
  },
  {
   "cell_type": "code",
   "execution_count": 25,
   "id": "da777eda",
   "metadata": {},
   "outputs": [
    {
     "name": "stdout",
     "output_type": "stream",
     "text": [
      "b'hola'\n",
      "hola\n"
     ]
    }
   ],
   "source": [
    "text = \"hola\"\n",
    "bytes_utf8 = text.encode('utf-8')\n",
    "print(bytes_utf8)\n",
    "\n",
    "decode_text = bytes_utf8.decode('utf-8')\n",
    "print(decode_text)"
   ]
  },
  {
   "cell_type": "code",
   "execution_count": 27,
   "id": "b734c48d",
   "metadata": {},
   "outputs": [
    {
     "name": "stdout",
     "output_type": "stream",
     "text": [
      "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\n"
     ]
    }
   ],
   "source": [
    "import base64\n",
    "with open(\"Pingüinos_reales.jpeg\", \"rb\") as f:\n",
    "    image_bytes = f.read()\n",
    "\n",
    "b64 = base64.b64encode(image_bytes).decode(\"utf-8\")\n",
    "print(b64)"
   ]
  },
  {
   "cell_type": "markdown",
   "id": "535f3ec1",
   "metadata": {},
   "source": [
    "**Rellenar plantilla de texto usando un diccionario**  \n",
    "    Dado `template = \"{name} tiene {n} manzanas.\"` y `info = {\"name\":\"Juan\",\"n\":\"3\"}`, usa `format_map` para generar `\"Juan tiene 3 manzanas.\"`."
   ]
  },
  {
   "cell_type": "code",
   "execution_count": 33,
   "id": "db28bc38",
   "metadata": {},
   "outputs": [
    {
     "name": "stdout",
     "output_type": "stream",
     "text": [
      "Juan tiene 3 manzanas.\n"
     ]
    }
   ],
   "source": [
    "template = \"{name} tiene {n} manzanas.\"\n",
    "info = {\"name\":\"Juan\", \"n\":\"3\"}\n",
    "\n",
    "mensaje = template.format_map(info)\n",
    "print(mensaje)"
   ]
  },
  {
   "cell_type": "code",
   "execution_count": null,
   "id": "e41eaf95",
   "metadata": {},
   "outputs": [],
   "source": []
  },
  {
   "cell_type": "code",
   "execution_count": null,
   "id": "c68ea4b5",
   "metadata": {},
   "outputs": [],
   "source": []
  },
  {
   "cell_type": "code",
   "execution_count": null,
   "id": "43c675bb",
   "metadata": {},
   "outputs": [],
   "source": []
  },
  {
   "cell_type": "markdown",
   "id": "5fdfb782",
   "metadata": {},
   "source": []
  },
  {
   "cell_type": "code",
   "execution_count": null,
   "id": "a11e8425",
   "metadata": {},
   "outputs": [],
   "source": []
  },
  {
   "cell_type": "code",
   "execution_count": null,
   "id": "d5b1c5c2",
   "metadata": {},
   "outputs": [],
   "source": []
  },
  {
   "cell_type": "code",
   "execution_count": null,
   "id": "e15e4b94",
   "metadata": {},
   "outputs": [],
   "source": []
  },
  {
   "cell_type": "code",
   "execution_count": null,
   "id": "92eb04cf",
   "metadata": {},
   "outputs": [],
   "source": []
  },
  {
   "cell_type": "code",
   "execution_count": null,
   "id": "664636d7",
   "metadata": {},
   "outputs": [],
   "source": []
  },
  {
   "cell_type": "code",
   "execution_count": null,
   "id": "8525cb07",
   "metadata": {},
   "outputs": [],
   "source": []
  },
  {
   "cell_type": "code",
   "execution_count": null,
   "id": "388d7808",
   "metadata": {},
   "outputs": [],
   "source": []
  },
  {
   "cell_type": "code",
   "execution_count": null,
   "id": "be6bf908",
   "metadata": {},
   "outputs": [],
   "source": []
  },
  {
   "cell_type": "code",
   "execution_count": null,
   "id": "f605119a",
   "metadata": {},
   "outputs": [],
   "source": []
  },
  {
   "cell_type": "code",
   "execution_count": null,
   "id": "0787268c",
   "metadata": {},
   "outputs": [],
   "source": []
  },
  {
   "cell_type": "code",
   "execution_count": null,
   "id": "05b0b26b",
   "metadata": {},
   "outputs": [],
   "source": []
  },
  {
   "cell_type": "code",
   "execution_count": null,
   "id": "c818924a",
   "metadata": {},
   "outputs": [],
   "source": []
  },
  {
   "cell_type": "code",
   "execution_count": null,
   "id": "3ee88af9",
   "metadata": {},
   "outputs": [],
   "source": []
  },
  {
   "cell_type": "code",
   "execution_count": null,
   "id": "7ffca021",
   "metadata": {},
   "outputs": [],
   "source": []
  },
  {
   "cell_type": "code",
   "execution_count": null,
   "id": "9514f4cc",
   "metadata": {},
   "outputs": [],
   "source": []
  },
  {
   "cell_type": "code",
   "execution_count": null,
   "id": "011eca7a",
   "metadata": {},
   "outputs": [],
   "source": []
  },
  {
   "cell_type": "code",
   "execution_count": null,
   "id": "786d4305",
   "metadata": {},
   "outputs": [],
   "source": []
  },
  {
   "cell_type": "code",
   "execution_count": 16,
   "id": "92bbc674",
   "metadata": {},
   "outputs": [
    {
     "name": "stdout",
     "output_type": "stream",
     "text": [
      "Help on method_descriptor:\n",
      "\n",
      "index(self, value, start=0, stop=9223372036854775807, /) unbound builtins.list method\n",
      "    Return first index of value.\n",
      "    \n",
      "    Raises ValueError if the value is not present.\n",
      "\n"
     ]
    }
   ],
   "source": [
    "help(list.index)"
   ]
  },
  {
   "cell_type": "code",
   "execution_count": null,
   "id": "14f8b1c9",
   "metadata": {},
   "outputs": [],
   "source": []
  },
  {
   "cell_type": "code",
   "execution_count": null,
   "id": "8404d5d0",
   "metadata": {},
   "outputs": [],
   "source": []
  },
  {
   "cell_type": "code",
   "execution_count": null,
   "id": "063334c6",
   "metadata": {},
   "outputs": [],
   "source": []
  }
 ],
 "metadata": {
  "kernelspec": {
   "display_name": "venv_udea",
   "language": "python",
   "name": "python3"
  },
  "language_info": {
   "codemirror_mode": {
    "name": "ipython",
    "version": 3
   },
   "file_extension": ".py",
   "mimetype": "text/x-python",
   "name": "python",
   "nbconvert_exporter": "python",
   "pygments_lexer": "ipython3",
   "version": "3.11.11"
  }
 },
 "nbformat": 4,
 "nbformat_minor": 5
}
